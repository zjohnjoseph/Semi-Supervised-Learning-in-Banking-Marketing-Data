{
 "cells": [
  {
   "cell_type": "code",
   "execution_count": 34,
   "id": "37fd17e5",
   "metadata": {},
   "outputs": [],
   "source": [
    "import numpy as np\n",
    "import pandas as pd\n",
    "import matplotlib.pyplot as plt\n",
    "from sklearn.model_selection import train_test_split, KFold, GridSearchCV\n",
    "from sklearn.svm import SVC\n",
    "from sklearn.semi_supervised import SelfTrainingClassifier\n",
    "from imblearn.over_sampling import SMOTE\n",
    "from imblearn.under_sampling import NearMiss\n",
    "from sklearn.preprocessing import StandardScaler\n",
    "from sklearn.metrics import f1_score, accuracy_score, confusion_matrix, precision_score, recall_score, roc_curve, auc, classification_report\n",
    "import warnings\n",
    "import pickle\n",
    "warnings.filterwarnings(\"ignore\")"
   ]
  },
  {
   "cell_type": "code",
   "execution_count": 2,
   "id": "fb25cd94",
   "metadata": {},
   "outputs": [],
   "source": [
    "# Load the data from the file\n",
    "file_path = \"training_data.pkl\"\n",
    "with open(file_path, 'rb') as file:\n",
    "    loaded_data = pickle.load(file)\n",
    "\n",
    "# Access the X_train and y_train datasets from the loaded data dictionary\n",
    "X = loaded_data[\"X_train\"]\n",
    "y = loaded_data[\"y_train\"]"
   ]
  },
  {
   "cell_type": "markdown",
   "id": "f3f43630",
   "metadata": {},
   "source": [
    "#### Training and Evaluating on Skewed Dataset"
   ]
  },
  {
   "cell_type": "code",
   "execution_count": 3,
   "id": "06fdf2de",
   "metadata": {},
   "outputs": [],
   "source": [
    "# The Dictionary to Store all different view of the data\n",
    "skew_output_dict = {}\n",
    "\n",
    "# First Using the Original Dataset\n",
    "X_remaining, X_test, y_remaining, y_test = train_test_split(X, y, test_size=0.2, stratify=y, random_state=1011)\n",
    "scaler = StandardScaler()\n",
    "X_remaining = scaler.fit_transform(X_remaining)\n",
    "X_test = scaler.transform(X_test)"
   ]
  },
  {
   "cell_type": "markdown",
   "id": "a26252b8",
   "metadata": {},
   "source": [
    "#### Fully Supervised i.e. 100% using Labeled Data"
   ]
  },
  {
   "cell_type": "code",
   "execution_count": 4,
   "id": "b6efd6f3",
   "metadata": {},
   "outputs": [
    {
     "name": "stdout",
     "output_type": "stream",
     "text": [
      "[LibSVM]Baseline Model Completed..\n"
     ]
    }
   ],
   "source": [
    "baseline = SVC(probability=True, gamma=\"auto\",verbose=True)\n",
    "baseline.fit(X_remaining,y_remaining)\n",
    "\n",
    "# Generating Predictions on the Tests Sets\n",
    "y_preds = baseline.predict(X_test)\n",
    "\n",
    "accuracy = accuracy_score(y_test, y_preds)\n",
    "confusion_matrix_test = confusion_matrix(y_test, y_preds)\n",
    "precision = precision_score(y_test, y_preds)\n",
    "recall = recall_score(y_test, y_preds)\n",
    "f1 = f1_score(y_test,y_preds)\n",
    "\n",
    "# ROC curve\n",
    "fpr, tpr, thresholds = roc_curve(y_test, y_preds)\n",
    "roc_auc = auc(fpr, tpr)\n",
    "\n",
    "result = {\"accuracy\":accuracy,\n",
    "          \"confusion_matrix_test\":confusion_matrix_test,\n",
    "          \"precision\":precision,\n",
    "          \"recall\":recall,\n",
    "          \"f1\":f1,\n",
    "          \"fpr\":fpr,\n",
    "          \"tpr\":tpr,\n",
    "          \"thresholds\":thresholds,\n",
    "          \"roc_auc\":roc_auc}\n",
    "\n",
    "skew_output_dict['1'] = result\n",
    "print(\"Baseline Model Completed..\")"
   ]
  },
  {
   "cell_type": "code",
   "execution_count": 5,
   "id": "56d03329",
   "metadata": {},
   "outputs": [
    {
     "name": "stdout",
     "output_type": "stream",
     "text": [
      "{'1': {'accuracy': 0.8984850160345018, 'confusion_matrix_test': array([[7849,  136],\n",
      "       [ 782,  276]], dtype=int64), 'precision': 0.6699029126213593, 'recall': 0.2608695652173913, 'f1': 0.37551020408163266, 'fpr': array([0.        , 0.01703193, 1.        ]), 'tpr': array([0.        , 0.26086957, 1.        ]), 'thresholds': array([2, 1, 0]), 'roc_auc': 0.6219188151697477}}\n"
     ]
    }
   ],
   "source": [
    "print(skew_output_dict)"
   ]
  },
  {
   "cell_type": "markdown",
   "id": "03364ffb",
   "metadata": {},
   "source": [
    "#### Training the model with 50%, 75%, 90%, 95% and 99% unlabeled data"
   ]
  },
  {
   "cell_type": "code",
   "execution_count": 7,
   "id": "58c0b1d6",
   "metadata": {},
   "outputs": [
    {
     "name": "stdout",
     "output_type": "stream",
     "text": [
      "Iteration: 1, Unlabeled Data Percentage: 50.0%\n",
      "End of iteration 1, added 17500 new labels.\n",
      "End of iteration 2, added 403 new labels.\n",
      "End of iteration 3, added 106 new labels.\n",
      "Model Fitting Completed..\n",
      "Model Predictions Completed..\n",
      "Results Dict Generated..\n",
      "\n",
      "Iteration: 2, Unlabeled Data Percentage: 25.0%\n",
      "End of iteration 1, added 26109 new labels.\n",
      "End of iteration 2, added 748 new labels.\n",
      "End of iteration 3, added 196 new labels.\n",
      "Model Fitting Completed..\n",
      "Model Predictions Completed..\n",
      "Results Dict Generated..\n",
      "\n",
      "Iteration: 3, Unlabeled Data Percentage: 10.0%\n",
      "End of iteration 1, added 31347 new labels.\n",
      "End of iteration 2, added 960 new labels.\n",
      "End of iteration 3, added 161 new labels.\n",
      "Model Fitting Completed..\n",
      "Model Predictions Completed..\n",
      "Results Dict Generated..\n",
      "\n",
      "Iteration: 4, Unlabeled Data Percentage: 5.0%\n",
      "End of iteration 1, added 32944 new labels.\n",
      "End of iteration 2, added 1141 new labels.\n",
      "End of iteration 3, added 205 new labels.\n",
      "Model Fitting Completed..\n",
      "Model Predictions Completed..\n",
      "Results Dict Generated..\n",
      "\n",
      "Iteration: 5, Unlabeled Data Percentage: 1.0%\n",
      "End of iteration 1, added 34238 new labels.\n",
      "End of iteration 2, added 1388 new labels.\n",
      "End of iteration 3, added 111 new labels.\n",
      "Model Fitting Completed..\n",
      "Model Predictions Completed..\n",
      "Results Dict Generated..\n",
      "\n"
     ]
    }
   ],
   "source": [
    "unlabeled_data_perc = [0.5,0.25,0.1,0.05,0.01]\n",
    "\n",
    "for i,perc in enumerate(unlabeled_data_perc):\n",
    "    # Further split the remaining data into Labelled data and Unlabeled data\n",
    "    print(f\"Iteration: {i+1}, Unlabeled Data Percentage: {perc*100}%\")\n",
    "    X_labeled, X_unlabeled, y_labeled, y_unlabeled = train_test_split(X_remaining,\n",
    "                                                                      y_remaining, \n",
    "                                                                      train_size=perc, \n",
    "                                                                      stratify=y_remaining, \n",
    "                                                                      random_state=1011)\n",
    "    #Removing the Labels of Unlabeled Data\n",
    "    y_unlabeled[:] = -1\n",
    "    \n",
    "    #Temporary Variables\n",
    "    X_tmp = np.concatenate([X_labeled, X_unlabeled], axis=0)\n",
    "    y_tmp = pd.concat([y_labeled,y_unlabeled],axis=0).values\n",
    "    \n",
    "    #Creating a estimator\n",
    "    svc = SVC(probability=True, gamma=\"auto\")\n",
    "    \n",
    "    #Training the Self Training Model\n",
    "    self_training_model = SelfTrainingClassifier(svc,verbose=True,max_iter=3,threshold=0.70)\n",
    "    self_training_model.fit(X_tmp, y_tmp)\n",
    "    \n",
    "    print(\"Model Fitting Completed..\")\n",
    "    \n",
    "    #Generating Predictions\n",
    "    y_preds = self_training_model.predict(X_test)\n",
    "    \n",
    "    print(\"Model Predictions Completed..\")\n",
    "    \n",
    "    #Calculating Metrics\n",
    "    accuracy = accuracy_score(y_test, y_preds)\n",
    "    confusion_matrix_test = confusion_matrix(y_test, y_preds)\n",
    "    precision = precision_score(y_test, y_preds)\n",
    "    recall = recall_score(y_test, y_preds)\n",
    "    f1 = f1_score(y_test,y_preds)\n",
    "    \n",
    "    # ROC curve\n",
    "    fpr, tpr, thresholds = roc_curve(y_test, y_preds)\n",
    "    roc_auc = auc(fpr, tpr)\n",
    "    \n",
    "    result = {\"accuracy\":accuracy,\n",
    "          \"confusion_matrix_test\":confusion_matrix_test,\n",
    "          \"precision\":precision,\n",
    "          \"recall\":recall,\n",
    "          \"f1\":f1,\n",
    "          \"fpr\":fpr,\n",
    "          \"tpr\":tpr,\n",
    "          \"thresholds\":thresholds,\n",
    "          \"roc_auc\":roc_auc}\n",
    "    print(\"Results Dict Generated..\")\n",
    "    skew_output_dict[str(i+2)] = result\n",
    "    print()"
   ]
  },
  {
   "cell_type": "code",
   "execution_count": null,
   "id": "cfafe45c",
   "metadata": {},
   "outputs": [],
   "source": [
    "# Print the shapes and types of all variables\n",
    "# print(\"Shape of X_remaining:\", X_remaining.shape, \"Type:\", type(X_remaining))\n",
    "# print(\"Shape of X_test:\", X_test.shape, \"Type:\", type(X_test))\n",
    "# print(\"Shape of y_remaining:\", y_remaining.shape, \"Type:\", type(y_remaining))\n",
    "# print(\"Shape of y_test:\", y_test.shape, \"Type:\", type(y_test))\n",
    "# print(\"Shape of X_labeled:\", X_labeled.shape, \"Type:\", type(X_labeled))\n",
    "# print(\"Shape of X_unlabeled:\", X_unlabeled.shape, \"Type:\", type(X_unlabeled))\n",
    "# print(\"Shape of y_labeled:\", y_labeled.shape, \"Type:\", type(y_labeled))\n",
    "# print(\"Shape of y_unlabeled:\", y_unlabeled.shape, \"Type:\", type(y_unlabeled))"
   ]
  },
  {
   "cell_type": "code",
   "execution_count": 8,
   "id": "76abde5f",
   "metadata": {},
   "outputs": [
    {
     "name": "stdout",
     "output_type": "stream",
     "text": [
      "{'1': {'accuracy': 0.8984850160345018, 'confusion_matrix_test': array([[7849,  136],\n",
      "       [ 782,  276]], dtype=int64), 'precision': 0.6699029126213593, 'recall': 0.2608695652173913, 'f1': 0.37551020408163266, 'fpr': array([0.        , 0.01703193, 1.        ]), 'tpr': array([0.        , 0.26086957, 1.        ]), 'thresholds': array([2, 1, 0]), 'roc_auc': 0.6219188151697477}, '2': {'accuracy': 0.8926241291606768, 'confusion_matrix_test': array([[7843,  142],\n",
      "       [ 829,  229]], dtype=int64), 'precision': 0.6172506738544474, 'recall': 0.21644612476370512, 'f1': 0.32050384884534644, 'fpr': array([0.        , 0.01778334, 1.        ]), 'tpr': array([0.        , 0.21644612, 1.        ]), 'thresholds': array([2, 1, 0]), 'roc_auc': 0.5993313904970686}, '3': {'accuracy': 0.8924029636182683, 'confusion_matrix_test': array([[7858,  127],\n",
      "       [ 846,  212]], dtype=int64), 'precision': 0.6253687315634219, 'recall': 0.2003780718336484, 'f1': 0.3035075161059413, 'fpr': array([0.        , 0.01590482, 1.        ]), 'tpr': array([0.        , 0.20037807, 1.        ]), 'thresholds': array([2, 1, 0]), 'roc_auc': 0.59223662514663}, '4': {'accuracy': 0.8932876257879022, 'confusion_matrix_test': array([[7838,  147],\n",
      "       [ 818,  240]], dtype=int64), 'precision': 0.6201550387596899, 'recall': 0.22684310018903592, 'f1': 0.3321799307958478, 'fpr': array([0.        , 0.01840952, 1.        ]), 'tpr': array([0.       , 0.2268431, 1.       ]), 'thresholds': array([2, 1, 0]), 'roc_auc': 0.6042167911715374}, '5': {'accuracy': 0.892734711931881, 'confusion_matrix_test': array([[7847,  138],\n",
      "       [ 832,  226]], dtype=int64), 'precision': 0.6208791208791209, 'recall': 0.21361058601134217, 'f1': 0.3178621659634318, 'fpr': array([0.       , 0.0172824, 1.       ]), 'tpr': array([0.        , 0.21361059, 1.        ]), 'thresholds': array([2, 1, 0]), 'roc_auc': 0.5981640907514445}, '6': {'accuracy': 0.8807917726418224, 'confusion_matrix_test': array([[7919,   66],\n",
      "       [1012,   46]], dtype=int64), 'precision': 0.4107142857142857, 'recall': 0.043478260869565216, 'f1': 0.07863247863247863, 'fpr': array([0.       , 0.0082655, 1.       ]), 'tpr': array([0.        , 0.04347826, 1.        ]), 'thresholds': array([2, 1, 0]), 'roc_auc': 0.5176063815305872}}\n"
     ]
    }
   ],
   "source": [
    "output_file = 'self_training_op_skew.pkl'\n",
    "with open(output_file, 'wb') as file:\n",
    "    pickle.dump(skew_output_dict, file)\n",
    "print(skew_output_dict)"
   ]
  },
  {
   "cell_type": "markdown",
   "id": "e359643d",
   "metadata": {},
   "source": [
    "#### Results on skewed Dataset"
   ]
  },
  {
   "cell_type": "code",
   "execution_count": 32,
   "id": "8d1561a9",
   "metadata": {},
   "outputs": [
    {
     "name": "stdout",
     "output_type": "stream",
     "text": [
      "Model 1 Metrics: 0.0% of Unlabeled Data\n",
      "Accuracy: 0.8984850160345018\n",
      "Precision: 0.6699029126213593\n",
      "Recall: 0.2608695652173913\n",
      "F1 Score: 0.37551020408163266\n",
      "\n",
      "Model 2 Metrics: 50.0% of Unlabeled Data\n",
      "Accuracy: 0.8926241291606768\n",
      "Precision: 0.6172506738544474\n",
      "Recall: 0.21644612476370512\n",
      "F1 Score: 0.32050384884534644\n",
      "\n",
      "Model 3 Metrics: 75.0% of Unlabeled Data\n",
      "Accuracy: 0.8924029636182683\n",
      "Precision: 0.6253687315634219\n",
      "Recall: 0.2003780718336484\n",
      "F1 Score: 0.3035075161059413\n",
      "\n",
      "Model 4 Metrics: 90.0% of Unlabeled Data\n",
      "Accuracy: 0.8932876257879022\n",
      "Precision: 0.6201550387596899\n",
      "Recall: 0.22684310018903592\n",
      "F1 Score: 0.3321799307958478\n",
      "\n",
      "Model 5 Metrics: 95.0% of Unlabeled Data\n",
      "Accuracy: 0.892734711931881\n",
      "Precision: 0.6208791208791209\n",
      "Recall: 0.21361058601134217\n",
      "F1 Score: 0.3178621659634318\n",
      "\n",
      "Model 6 Metrics: 99.0% of Unlabeled Data\n",
      "Accuracy: 0.8807917726418224\n",
      "Precision: 0.4107142857142857\n",
      "Recall: 0.043478260869565216\n",
      "F1 Score: 0.07863247863247863\n",
      "\n"
     ]
    }
   ],
   "source": [
    "# Print all metrics for each model\n",
    "labeled_data_perc = [1.0,0.5,0.25,0.1,0.05,0.01]\n",
    "for model_num, metrics in skew_output_dict.items():\n",
    "    print(f\"Model {model_num} Metrics: {100 - (labeled_data_perc[int(model_num)-1])*100}% of Unlabeled Data\")\n",
    "    print(f\"Accuracy: {metrics['accuracy']}\")\n",
    "    print(f\"Precision: {metrics['precision']}\")\n",
    "    print(f\"Recall: {metrics['recall']}\")\n",
    "    print(f\"F1 Score: {metrics['f1']}\\n\")"
   ]
  },
  {
   "cell_type": "code",
   "execution_count": 45,
   "id": "5d97cb63",
   "metadata": {},
   "outputs": [
    {
     "data": {
      "image/png": "[encoded data removed]",
      "text/plain": [
       "<Figure size 576x432 with 1 Axes>"
      ]
     },
     "metadata": {
      "needs_background": "light"
     },
     "output_type": "display_data"
    }
   ],
   "source": [
    "plt.figure(figsize=(8, 6))\n",
    "for model_num, metrics in skew_output_dict.items():\n",
    "    fpr = metrics['fpr']\n",
    "    tpr = metrics['tpr']\n",
    "    roc_auc = metrics['roc_auc']\n",
    "    plt.plot(fpr, tpr, lw=2, label='Model {} (AUC = {:.2f})'.format(model_num, roc_auc))\n",
    "\n",
    "plt.xlim([0.0, 1.0])\n",
    "plt.ylim([0.0, 1.05])\n",
    "plt.xlabel('False Positive Rate')\n",
    "plt.ylabel('True Positive Rate')\n",
    "plt.title('ROC Curves for Skewed Dataset - Self Training')\n",
    "plt.legend(loc=\"lower right\")\n",
    "plt.savefig('ROC Curves for Skewed Dataset - Self Training.png')\n",
    "plt.show()"
   ]
  },
  {
   "cell_type": "markdown",
   "id": "d6f1d098",
   "metadata": {},
   "source": [
    "#### Training and Evaluation in Undersampled Dataset"
   ]
  },
  {
   "cell_type": "code",
   "execution_count": 11,
   "id": "b5632bc3",
   "metadata": {},
   "outputs": [],
   "source": [
    "# The Dictionary to Store all different view of the data\n",
    "nearmiss_output_dict = {}\n",
    "X_nearmiss = loaded_data['X_train_nearmiss']\n",
    "y_nearmiss = loaded_data['y_train_nearmiss']\n",
    "\n",
    "# First Using the Original Dataset\n",
    "X_remaining, X_test, y_remaining, y_test = train_test_split(X_nearmiss, y_nearmiss, test_size=0.2, stratify=y_nearmiss, random_state=1011)\n",
    "scaler = StandardScaler()\n",
    "X_remaining = scaler.fit_transform(X_remaining)\n",
    "X_test = scaler.transform(X_test)"
   ]
  },
  {
   "cell_type": "markdown",
   "id": "3d5495cb",
   "metadata": {},
   "source": [
    "#### Fully Supervised i.e. 100% using Labeled Data"
   ]
  },
  {
   "cell_type": "code",
   "execution_count": 12,
   "id": "48ed2f96",
   "metadata": {},
   "outputs": [
    {
     "name": "stdout",
     "output_type": "stream",
     "text": [
      "Undersampled Baseline Model Completed..\n"
     ]
    }
   ],
   "source": [
    "baseline = SVC(probability=True, gamma=\"auto\")\n",
    "baseline.fit(X_remaining,y_remaining)\n",
    "\n",
    "# Generating Predictions on the Tests Sets\n",
    "y_preds = baseline.predict(X_test)\n",
    "\n",
    "accuracy = accuracy_score(y_test, y_preds)\n",
    "confusion_matrix_test = confusion_matrix(y_test, y_preds)\n",
    "precision = precision_score(y_test, y_preds)\n",
    "recall = recall_score(y_test, y_preds)\n",
    "f1 = f1_score(y_test,y_preds)\n",
    "\n",
    "# ROC curve\n",
    "fpr, tpr, thresholds = roc_curve(y_test, y_preds)\n",
    "roc_auc = auc(fpr, tpr)\n",
    "\n",
    "result = {\"accuracy\":accuracy,\n",
    "          \"confusion_matrix_test\":confusion_matrix_test,\n",
    "          \"precision\":precision,\n",
    "          \"recall\":recall,\n",
    "          \"f1\":f1,\n",
    "          \"fpr\":fpr,\n",
    "          \"tpr\":tpr,\n",
    "          \"thresholds\":thresholds,\n",
    "          \"roc_auc\":roc_auc}\n",
    "\n",
    "nearmiss_output_dict['1'] = result\n",
    "print(\"Undersampled Baseline Model Completed..\")"
   ]
  },
  {
   "cell_type": "markdown",
   "id": "a99acf16",
   "metadata": {},
   "source": [
    "#### Training the model with 50%, 75%, 90%, 95% and 99% unlabeled data"
   ]
  },
  {
   "cell_type": "code",
   "execution_count": 13,
   "id": "bbfd4633",
   "metadata": {
    "scrolled": true
   },
   "outputs": [
    {
     "name": "stdout",
     "output_type": "stream",
     "text": [
      "Iteration: 1, Unlabeled Data Percentage: 50.0%\n",
      "End of iteration 1, added 2423 new labels.\n",
      "End of iteration 2, added 817 new labels.\n",
      "End of iteration 3, added 285 new labels.\n",
      "Model Fitting Completed..\n",
      "Model Predictions Completed..\n",
      "Results Dict Generated..\n",
      "\n",
      "Iteration: 2, Unlabeled Data Percentage: 25.0%\n",
      "End of iteration 1, added 3427 new labels.\n",
      "End of iteration 2, added 1795 new labels.\n",
      "End of iteration 3, added 530 new labels.\n",
      "Model Fitting Completed..\n",
      "Model Predictions Completed..\n",
      "Results Dict Generated..\n",
      "\n",
      "Iteration: 3, Unlabeled Data Percentage: 10.0%\n",
      "End of iteration 1, added 3356 new labels.\n",
      "End of iteration 2, added 3082 new labels.\n",
      "End of iteration 3, added 701 new labels.\n",
      "Model Fitting Completed..\n",
      "Model Predictions Completed..\n",
      "Results Dict Generated..\n",
      "\n",
      "Iteration: 4, Unlabeled Data Percentage: 5.0%\n",
      "End of iteration 1, added 2814 new labels.\n",
      "End of iteration 2, added 3794 new labels.\n",
      "End of iteration 3, added 923 new labels.\n",
      "Model Fitting Completed..\n",
      "Model Predictions Completed..\n",
      "Results Dict Generated..\n",
      "\n",
      "Iteration: 5, Unlabeled Data Percentage: 1.0%\n",
      "End of iteration 1, added 86 new labels.\n",
      "End of iteration 2, added 3264 new labels.\n",
      "End of iteration 3, added 4209 new labels.\n",
      "Model Fitting Completed..\n",
      "Model Predictions Completed..\n",
      "Results Dict Generated..\n",
      "\n"
     ]
    }
   ],
   "source": [
    "unlabeled_data_perc = [0.5,0.25,0.1,0.05,0.01]\n",
    "\n",
    "for i,perc in enumerate(unlabeled_data_perc):\n",
    "    # Further split the remaining data into Labelled data and Unlabeled data\n",
    "    print(f\"Iteration: {i+1}, Unlabeled Data Percentage: {perc*100}%\")\n",
    "    X_labeled, X_unlabeled, y_labeled, y_unlabeled = train_test_split(X_remaining,\n",
    "                                                                      y_remaining, \n",
    "                                                                      train_size=perc, \n",
    "                                                                      stratify=y_remaining, \n",
    "                                                                      random_state=1011)\n",
    "    #Removing the Labels of Unlabeled Data\n",
    "    y_unlabeled[:] = -1\n",
    "    \n",
    "    #Temporary Variables\n",
    "    X_tmp = np.concatenate([X_labeled, X_unlabeled], axis=0)\n",
    "    y_tmp = pd.concat([y_labeled,y_unlabeled],axis=0).values\n",
    "    \n",
    "    #Creating a estimator\n",
    "    svc = SVC(probability=True, gamma=\"auto\")\n",
    "    \n",
    "    #Training the Self Training Model\n",
    "    self_training_model = SelfTrainingClassifier(svc,verbose=True,max_iter=3,threshold=0.70)\n",
    "    self_training_model.fit(X_tmp, y_tmp)\n",
    "    print(\"Model Fitting Completed..\")\n",
    "    \n",
    "    #Generating Predictions\n",
    "    y_preds = self_training_model.predict(X_test)\n",
    "    print(\"Model Predictions Completed..\")\n",
    "    \n",
    "    #Calculating Metrics\n",
    "    accuracy = accuracy_score(y_test, y_preds)\n",
    "    confusion_matrix_test = confusion_matrix(y_test, y_preds)\n",
    "    precision = precision_score(y_test, y_preds)\n",
    "    recall = recall_score(y_test, y_preds)\n",
    "    f1 = f1_score(y_test,y_preds)\n",
    "    \n",
    "    # ROC curve\n",
    "    fpr, tpr, thresholds = roc_curve(y_test, y_preds)\n",
    "    roc_auc = auc(fpr, tpr)\n",
    "    \n",
    "    result = {\"accuracy\":accuracy,\n",
    "          \"confusion_matrix_test\":confusion_matrix_test,\n",
    "          \"precision\":precision,\n",
    "          \"recall\":recall,\n",
    "          \"f1\":f1,\n",
    "          \"fpr\":fpr,\n",
    "          \"tpr\":tpr,\n",
    "          \"thresholds\":thresholds,\n",
    "          \"roc_auc\":roc_auc}\n",
    "    print(\"Results Dict Generated..\")\n",
    "    nearmiss_output_dict[str(i+2)] = result\n",
    "    print()"
   ]
  },
  {
   "cell_type": "code",
   "execution_count": 14,
   "id": "9256455e",
   "metadata": {},
   "outputs": [],
   "source": [
    "output_file = 'self_training_op_nearmiss.pkl'\n",
    "with open(output_file, 'wb') as file:\n",
    "    pickle.dump(nearmiss_output_dict, file)"
   ]
  },
  {
   "cell_type": "markdown",
   "id": "722188a0",
   "metadata": {},
   "source": [
    "#### Evaluation on Undersampled Dataset"
   ]
  },
  {
   "cell_type": "code",
   "execution_count": 38,
   "id": "e476d615",
   "metadata": {},
   "outputs": [
    {
     "name": "stdout",
     "output_type": "stream",
     "text": [
      "Model 1 Metrics: 0.0% of Unlabeled Data\n",
      "Accuracy: 0.6994328922495274\n",
      "Precision: 0.6935779816513762\n",
      "Recall: 0.7145557655954632\n",
      "F1 Score: 0.7039106145251397\n",
      "\n",
      "Model 2 Metrics: 50.0% of Unlabeled Data\n",
      "Accuracy: 0.6810018903591682\n",
      "Precision: 0.6714413607878246\n",
      "Recall: 0.7088846880907372\n",
      "F1 Score: 0.6896551724137931\n",
      "\n",
      "Model 3 Metrics: 75.0% of Unlabeled Data\n",
      "Accuracy: 0.6639886578449905\n",
      "Precision: 0.6657115568290354\n",
      "Recall: 0.6587901701323251\n",
      "F1 Score: 0.6622327790973871\n",
      "\n",
      "Model 4 Metrics: 90.0% of Unlabeled Data\n",
      "Accuracy: 0.6720226843100189\n",
      "Precision: 0.6616341030195382\n",
      "Recall: 0.7041587901701323\n",
      "F1 Score: 0.6822344322344321\n",
      "\n",
      "Model 5 Metrics: 95.0% of Unlabeled Data\n",
      "Accuracy: 0.6625708884688091\n",
      "Precision: 0.6580882352941176\n",
      "Recall: 0.6767485822306238\n",
      "F1 Score: 0.6672879776328053\n",
      "\n",
      "Model 6 Metrics: 99.0% of Unlabeled Data\n",
      "Accuracy: 0.6049149338374291\n",
      "Precision: 0.5776223776223777\n",
      "Recall: 0.780718336483932\n",
      "F1 Score: 0.6639871382636656\n",
      "\n"
     ]
    }
   ],
   "source": [
    "# Print all metrics for each model\n",
    "labeled_data_perc = [1.0,0.5,0.25,0.1,0.05,0.01]\n",
    "for model_num, metrics in nearmiss_output_dict.items():\n",
    "    print(f\"Model {model_num} Metrics: {100 - (labeled_data_perc[int(model_num)-1])*100}% of Unlabeled Data\")\n",
    "    print(f\"Accuracy: {metrics['accuracy']}\")\n",
    "    print(f\"Precision: {metrics['precision']}\")\n",
    "    print(f\"Recall: {metrics['recall']}\")\n",
    "    print(f\"F1 Score: {metrics['f1']}\\n\")"
   ]
  },
  {
   "cell_type": "code",
   "execution_count": 43,
   "id": "cb1943f7",
   "metadata": {},
   "outputs": [
    {
     "data": {
      "image/png": "[encoded data removed]",
      "text/plain": [
       "<Figure size 576x432 with 1 Axes>"
      ]
     },
     "metadata": {
      "needs_background": "light"
     },
     "output_type": "display_data"
    }
   ],
   "source": [
    "plt.figure(figsize=(8, 6))\n",
    "for model_num, metrics in nearmiss_output_dict.items():\n",
    "    fpr = metrics['fpr']\n",
    "    tpr = metrics['tpr']\n",
    "    roc_auc = metrics['roc_auc']\n",
    "    plt.plot(fpr, tpr, lw=2, label='Model {} (AUC = {:.2f})'.format(model_num, roc_auc))\n",
    "\n",
    "plt.xlim([0.0, 1.0])\n",
    "plt.ylim([0.0, 1.05])\n",
    "plt.xlabel('False Positive Rate')\n",
    "plt.ylabel('True Positive Rate')\n",
    "plt.title('ROC Curves for Undersampled Dataset - Self Training')\n",
    "plt.legend(loc=\"lower right\")\n",
    "plt.savefig('ROC Curves for Undersampled Dataset - Self Training.png')\n",
    "plt.show()"
   ]
  },
  {
   "cell_type": "markdown",
   "id": "fa8a5556",
   "metadata": {},
   "source": [
    "#### Training and Evaluation in Oversampled Dataset"
   ]
  },
  {
   "cell_type": "code",
   "execution_count": 15,
   "id": "dcf022ff",
   "metadata": {},
   "outputs": [],
   "source": [
    "# The Dictionary to Store all different view of the data\n",
    "smote_output_dict = {}\n",
    "X_smote = loaded_data['X_train_smote']\n",
    "y_smote = loaded_data['y_train_smote']\n",
    "# First Using the Original Dataset\n",
    "X_remaining, X_test, y_remaining, y_test = train_test_split(X_smote, y_smote, test_size=0.2, stratify=y_smote, random_state=1011)\n",
    "scaler = StandardScaler()\n",
    "X_remaining = scaler.fit_transform(X_remaining)\n",
    "X_test = scaler.transform(X_test)"
   ]
  },
  {
   "cell_type": "markdown",
   "id": "bdba8f9e",
   "metadata": {},
   "source": [
    "#### Fully Supervised i.e. 100% using Labeled Data"
   ]
  },
  {
   "cell_type": "code",
   "execution_count": 16,
   "id": "9862ca23",
   "metadata": {},
   "outputs": [
    {
     "name": "stdout",
     "output_type": "stream",
     "text": [
      "Oversampled Baseline Model Completed..\n"
     ]
    }
   ],
   "source": [
    "baseline = SVC(probability=True, gamma=\"auto\")\n",
    "baseline.fit(X_remaining,y_remaining)\n",
    "\n",
    "# Generating Predictions on the Tests Sets\n",
    "y_preds = baseline.predict(X_test)\n",
    "\n",
    "accuracy = accuracy_score(y_test, y_preds)\n",
    "confusion_matrix_test = confusion_matrix(y_test, y_preds)\n",
    "precision = precision_score(y_test, y_preds)\n",
    "recall = recall_score(y_test, y_preds)\n",
    "f1 = f1_score(y_test,y_preds)\n",
    "\n",
    "# ROC curve\n",
    "fpr, tpr, thresholds = roc_curve(y_test, y_preds)\n",
    "roc_auc = auc(fpr, tpr)\n",
    "\n",
    "result = {\"accuracy\":accuracy,\n",
    "          \"confusion_matrix_test\":confusion_matrix_test,\n",
    "          \"precision\":precision,\n",
    "          \"recall\":recall,\n",
    "          \"f1\":f1,\n",
    "          \"fpr\":fpr,\n",
    "          \"tpr\":tpr,\n",
    "          \"thresholds\":thresholds,\n",
    "          \"roc_auc\":roc_auc}\n",
    "\n",
    "smote_output_dict['1'] = result\n",
    "print(\"Oversampled Baseline Model Completed..\")"
   ]
  },
  {
   "cell_type": "markdown",
   "id": "af230502",
   "metadata": {},
   "source": [
    "#### Training the model with 50%, 75%, 90%, 95% and 99% unlabeled data"
   ]
  },
  {
   "cell_type": "code",
   "execution_count": 18,
   "id": "6fed9990",
   "metadata": {},
   "outputs": [
    {
     "name": "stdout",
     "output_type": "stream",
     "text": [
      "Iteration: 1, labeled Data Percentage: 50.0%\n",
      "End of iteration 1, added 31030 new labels.\n",
      "End of iteration 2, added 492 new labels.\n",
      "End of iteration 3, added 168 new labels.\n",
      "Model Fitting Completed..\n",
      "Model Predictions Completed..\n",
      "Results Dict Generated..\n",
      "\n",
      "Iteration: 2, labeled Data Percentage: 25.0%\n",
      "End of iteration 1, added 46249 new labels.\n",
      "End of iteration 2, added 1118 new labels.\n",
      "End of iteration 3, added 270 new labels.\n",
      "Model Fitting Completed..\n",
      "Model Predictions Completed..\n",
      "Results Dict Generated..\n",
      "\n",
      "Iteration: 3, labeled Data Percentage: 10.0%\n",
      "End of iteration 1, added 55074 new labels.\n",
      "End of iteration 2, added 1860 new labels.\n",
      "End of iteration 3, added 298 new labels.\n",
      "Model Fitting Completed..\n",
      "Model Predictions Completed..\n",
      "Results Dict Generated..\n",
      "\n",
      "Iteration: 4, labeled Data Percentage: 5.0%\n",
      "End of iteration 1, added 57784 new labels.\n",
      "End of iteration 2, added 2280 new labels.\n",
      "End of iteration 3, added 311 new labels.\n",
      "Model Fitting Completed..\n",
      "Model Predictions Completed..\n",
      "Results Dict Generated..\n",
      "\n",
      "Iteration: 5, labeled Data Percentage: 1.0%\n",
      "End of iteration 1, added 58324 new labels.\n",
      "End of iteration 2, added 4041 new labels.\n",
      "End of iteration 3, added 534 new labels.\n",
      "Model Fitting Completed..\n",
      "Model Predictions Completed..\n",
      "Results Dict Generated..\n",
      "\n"
     ]
    }
   ],
   "source": [
    "unlabeled_data_perc = [0.5,0.25,0.1,0.05,0.01]\n",
    "\n",
    "for i,perc in enumerate(unlabeled_data_perc):\n",
    "    # Further split the remaining data into Labelled data and Unlabeled data\n",
    "    print(f\"Iteration: {i+1}, labeled Data Percentage: {perc*100}%\")\n",
    "    X_labeled, X_unlabeled, y_labeled, y_unlabeled = train_test_split(X_remaining,\n",
    "                                                                      y_remaining, \n",
    "                                                                      train_size=perc, \n",
    "                                                                      stratify=y_remaining, \n",
    "                                                                      random_state=1011)\n",
    "    #Removing the Labels of Unlabeled Data\n",
    "    y_unlabeled[:] = -1\n",
    "    \n",
    "    #Temporary DataFrames\n",
    "    X_tmp = np.concatenate([X_labeled, X_unlabeled], axis=0)\n",
    "    y_tmp = pd.concat([y_labeled,y_unlabeled],axis=0).values\n",
    "    \n",
    "    #Creating a estimator\n",
    "    svc = SVC(probability=True, gamma=\"auto\")\n",
    "    \n",
    "    #Training the Self Training Model\n",
    "    self_training_model = SelfTrainingClassifier(svc,verbose=True,max_iter=3,threshold=0.70)\n",
    "    self_training_model.fit(X_tmp, y_tmp)\n",
    "    \n",
    "    print(\"Model Fitting Completed..\")\n",
    "    \n",
    "    #Generating Predictions\n",
    "    y_preds = self_training_model.predict(X_test)\n",
    "    \n",
    "    print(\"Model Predictions Completed..\")\n",
    "    \n",
    "    #Calculating Metrics\n",
    "    accuracy = accuracy_score(y_test, y_preds)\n",
    "    confusion_matrix_test = confusion_matrix(y_test, y_preds)\n",
    "    precision = precision_score(y_test, y_preds)\n",
    "    recall = recall_score(y_test, y_preds)\n",
    "    f1 = f1_score(y_test,y_preds)\n",
    "    \n",
    "    # ROC curve\n",
    "    fpr, tpr, thresholds = roc_curve(y_test, y_preds)\n",
    "    roc_auc = auc(fpr, tpr)\n",
    "    \n",
    "    result = {\"accuracy\":accuracy,\n",
    "          \"confusion_matrix_test\":confusion_matrix_test,\n",
    "          \"precision\":precision,\n",
    "          \"recall\":recall,\n",
    "          \"f1\":f1,\n",
    "          \"fpr\":fpr,\n",
    "          \"tpr\":tpr,\n",
    "          \"thresholds\":thresholds,\n",
    "          \"roc_auc\":roc_auc}\n",
    "    print(\"Results Dict Generated..\")\n",
    "    smote_output_dict[str(i+2)] = result\n",
    "    print()"
   ]
  },
  {
   "cell_type": "code",
   "execution_count": 19,
   "id": "6e6826ea",
   "metadata": {},
   "outputs": [],
   "source": [
    "output_file = 'self_training_op_smote.pkl'\n",
    "with open(output_file, 'wb') as file:\n",
    "    pickle.dump(smote_output_dict, file)"
   ]
  },
  {
   "cell_type": "markdown",
   "id": "266d069a",
   "metadata": {},
   "source": [
    "#### Evaluation on Oversampled Dataset"
   ]
  },
  {
   "cell_type": "code",
   "execution_count": 40,
   "id": "e3c3c31f",
   "metadata": {},
   "outputs": [
    {
     "name": "stdout",
     "output_type": "stream",
     "text": [
      "Model 1 Metrics: 0.0% of Unlabeled Data\n",
      "Accuracy: 0.935249545995366\n",
      "Precision: 0.9778633301251203\n",
      "Recall: 0.8906700062617408\n",
      "F1 Score: 0.9322322715952287\n",
      "\n",
      "Model 2 Metrics: 50.0% of Unlabeled Data\n",
      "Accuracy: 0.9314296449370656\n",
      "Precision: 0.9778085991678225\n",
      "Recall: 0.8829054477144647\n",
      "F1 Score: 0.9279368213228036\n",
      "\n",
      "Model 3 Metrics: 75.0% of Unlabeled Data\n",
      "Accuracy: 0.9314922662658902\n",
      "Precision: 0.9784752117761422\n",
      "Recall: 0.8824045084533501\n",
      "F1 Score: 0.92795996312393\n",
      "\n",
      "Model 4 Metrics: 90.0% of Unlabeled Data\n",
      "Accuracy: 0.9302398396893982\n",
      "Precision: 0.9757651294834511\n",
      "Recall: 0.8824045084533501\n",
      "F1 Score: 0.9267394449559385\n",
      "\n",
      "Model 5 Metrics: 95.0% of Unlabeled Data\n",
      "Accuracy: 0.9302398396893982\n",
      "Precision: 0.9749758053366515\n",
      "Recall: 0.883155917345022\n",
      "F1 Score: 0.9267972138257329\n",
      "\n",
      "Model 6 Metrics: 99.0% of Unlabeled Data\n",
      "Accuracy: 0.9122048969879141\n",
      "Precision: 0.9453389257204708\n",
      "Recall: 0.8750156543519099\n",
      "F1 Score: 0.9088189386056191\n",
      "\n"
     ]
    }
   ],
   "source": [
    "# Print all metrics for each model\n",
    "labeled_data_perc = [1.0,0.5,0.25,0.1,0.05,0.01]\n",
    "for model_num, metrics in smote_output_dict.items():\n",
    "    print(f\"Model {model_num} Metrics: {100 - (labeled_data_perc[int(model_num)-1])*100}% of Unlabeled Data\")\n",
    "    print(f\"Accuracy: {metrics['accuracy']}\")\n",
    "    print(f\"Precision: {metrics['precision']}\")\n",
    "    print(f\"Recall: {metrics['recall']}\")\n",
    "    print(f\"F1 Score: {metrics['f1']}\\n\")"
   ]
  },
  {
   "cell_type": "code",
   "execution_count": 42,
   "id": "5dc82e79",
   "metadata": {},
   "outputs": [
    {
     "data": {
      "image/png": "[encoded data removed]",
      "text/plain": [
       "<Figure size 576x432 with 1 Axes>"
      ]
     },
     "metadata": {
      "needs_background": "light"
     },
     "output_type": "display_data"
    }
   ],
   "source": [
    "plt.figure(figsize=(8, 6))\n",
    "for model_num, metrics in smote_output_dict.items():\n",
    "    fpr = metrics['fpr']\n",
    "    tpr = metrics['tpr']\n",
    "    roc_auc = metrics['roc_auc']\n",
    "    plt.plot(fpr, tpr, lw=2, label='Model {} (AUC = {:.2f})'.format(model_num, roc_auc))\n",
    "\n",
    "plt.xlim([0.0, 1.0])\n",
    "plt.ylim([0.0, 1.05])\n",
    "plt.xlabel('False Positive Rate')\n",
    "plt.ylabel('True Positive Rate')\n",
    "plt.title('ROC Curves for Oversampled Dataset - Self Training')\n",
    "plt.legend(loc=\"lower right\")\n",
    "plt.savefig('ROC Curves for Oversampled Dataset - Self Training.png')\n",
    "plt.show()"
   ]
  },
  {
   "cell_type": "code",
   "execution_count": null,
   "id": "b00f3e9e",
   "metadata": {},
   "outputs": [],
   "source": []
  }
 ],
 "metadata": {
  "kernelspec": {
   "display_name": "Python 3 (ipykernel)",
   "language": "python",
   "name": "python3"
  },
  "language_info": {
   "codemirror_mode": {
    "name": "ipython",
    "version": 3
   },
   "file_extension": ".py",
   "mimetype": "text/x-python",
   "name": "python",
   "nbconvert_exporter": "python",
   "pygments_lexer": "ipython3",
   "version": "3.9.12"
  }
 },
 "nbformat": 4,
 "nbformat_minor": 5
}
