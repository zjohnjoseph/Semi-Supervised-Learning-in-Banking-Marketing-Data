{
 "cells": [
  {
   "cell_type": "code",
   "execution_count": 1,
   "id": "956aa7d3",
   "metadata": {},
   "outputs": [],
   "source": [
    "import numpy as np\n",
    "import pandas as pd\n",
    "import matplotlib.pyplot as plt\n",
    "from sklearn.preprocessing import LabelEncoder\n",
    "from imblearn.over_sampling import SMOTE\n",
    "from imblearn.under_sampling import NearMiss\n",
    "from sklearn.preprocessing import StandardScaler\n",
    "from sklearn.model_selection import train_test_split, KFold, GridSearchCV\n",
    "from sklearn.svm import SVC\n",
    "from sklearn.metrics import f1_score, accuracy_score, confusion_matrix, precision_score, recall_score, roc_curve, auc, classification_report\n",
    "import warnings\n",
    "warnings.filterwarnings(\"ignore\")"
   ]
  },
  {
   "cell_type": "code",
   "execution_count": 2,
   "id": "62b4695e",
   "metadata": {},
   "outputs": [
    {
     "data": {
      "text/html": [
       "<div>\n",
       "<style scoped>\n",
       "    .dataframe tbody tr th:only-of-type {\n",
       "        vertical-align: middle;\n",
       "    }\n",
       "\n",
       "    .dataframe tbody tr th {\n",
       "        vertical-align: top;\n",
       "    }\n",
       "\n",
       "    .dataframe thead th {\n",
       "        text-align: right;\n",
       "    }\n",
       "</style>\n",
       "<table border=\"1\" class=\"dataframe\">\n",
       "  <thead>\n",
       "    <tr style=\"text-align: right;\">\n",
       "      <th></th>\n",
       "      <th>age</th>\n",
       "      <th>job</th>\n",
       "      <th>marital</th>\n",
       "      <th>education</th>\n",
       "      <th>default</th>\n",
       "      <th>balance</th>\n",
       "      <th>housing</th>\n",
       "      <th>loan</th>\n",
       "      <th>contact</th>\n",
       "      <th>day</th>\n",
       "      <th>month</th>\n",
       "      <th>duration</th>\n",
       "      <th>campaign</th>\n",
       "      <th>pdays</th>\n",
       "      <th>previous</th>\n",
       "      <th>poutcome</th>\n",
       "      <th>y</th>\n",
       "    </tr>\n",
       "  </thead>\n",
       "  <tbody>\n",
       "    <tr>\n",
       "      <th>0</th>\n",
       "      <td>58</td>\n",
       "      <td>management</td>\n",
       "      <td>married</td>\n",
       "      <td>tertiary</td>\n",
       "      <td>no</td>\n",
       "      <td>2143</td>\n",
       "      <td>yes</td>\n",
       "      <td>no</td>\n",
       "      <td>unknown</td>\n",
       "      <td>5</td>\n",
       "      <td>may</td>\n",
       "      <td>261</td>\n",
       "      <td>1</td>\n",
       "      <td>-1</td>\n",
       "      <td>0</td>\n",
       "      <td>unknown</td>\n",
       "      <td>no</td>\n",
       "    </tr>\n",
       "    <tr>\n",
       "      <th>1</th>\n",
       "      <td>44</td>\n",
       "      <td>technician</td>\n",
       "      <td>single</td>\n",
       "      <td>secondary</td>\n",
       "      <td>no</td>\n",
       "      <td>29</td>\n",
       "      <td>yes</td>\n",
       "      <td>no</td>\n",
       "      <td>unknown</td>\n",
       "      <td>5</td>\n",
       "      <td>may</td>\n",
       "      <td>151</td>\n",
       "      <td>1</td>\n",
       "      <td>-1</td>\n",
       "      <td>0</td>\n",
       "      <td>unknown</td>\n",
       "      <td>no</td>\n",
       "    </tr>\n",
       "    <tr>\n",
       "      <th>2</th>\n",
       "      <td>33</td>\n",
       "      <td>entrepreneur</td>\n",
       "      <td>married</td>\n",
       "      <td>secondary</td>\n",
       "      <td>no</td>\n",
       "      <td>2</td>\n",
       "      <td>yes</td>\n",
       "      <td>yes</td>\n",
       "      <td>unknown</td>\n",
       "      <td>5</td>\n",
       "      <td>may</td>\n",
       "      <td>76</td>\n",
       "      <td>1</td>\n",
       "      <td>-1</td>\n",
       "      <td>0</td>\n",
       "      <td>unknown</td>\n",
       "      <td>no</td>\n",
       "    </tr>\n",
       "    <tr>\n",
       "      <th>3</th>\n",
       "      <td>47</td>\n",
       "      <td>blue-collar</td>\n",
       "      <td>married</td>\n",
       "      <td>unknown</td>\n",
       "      <td>no</td>\n",
       "      <td>1506</td>\n",
       "      <td>yes</td>\n",
       "      <td>no</td>\n",
       "      <td>unknown</td>\n",
       "      <td>5</td>\n",
       "      <td>may</td>\n",
       "      <td>92</td>\n",
       "      <td>1</td>\n",
       "      <td>-1</td>\n",
       "      <td>0</td>\n",
       "      <td>unknown</td>\n",
       "      <td>no</td>\n",
       "    </tr>\n",
       "    <tr>\n",
       "      <th>4</th>\n",
       "      <td>33</td>\n",
       "      <td>unknown</td>\n",
       "      <td>single</td>\n",
       "      <td>unknown</td>\n",
       "      <td>no</td>\n",
       "      <td>1</td>\n",
       "      <td>no</td>\n",
       "      <td>no</td>\n",
       "      <td>unknown</td>\n",
       "      <td>5</td>\n",
       "      <td>may</td>\n",
       "      <td>198</td>\n",
       "      <td>1</td>\n",
       "      <td>-1</td>\n",
       "      <td>0</td>\n",
       "      <td>unknown</td>\n",
       "      <td>no</td>\n",
       "    </tr>\n",
       "  </tbody>\n",
       "</table>\n",
       "</div>"
      ],
      "text/plain": [
       "   age           job  marital  education default  balance housing loan  \\\n",
       "0   58    management  married   tertiary      no     2143     yes   no   \n",
       "1   44    technician   single  secondary      no       29     yes   no   \n",
       "2   33  entrepreneur  married  secondary      no        2     yes  yes   \n",
       "3   47   blue-collar  married    unknown      no     1506     yes   no   \n",
       "4   33       unknown   single    unknown      no        1      no   no   \n",
       "\n",
       "   contact  day month  duration  campaign  pdays  previous poutcome   y  \n",
       "0  unknown    5   may       261         1     -1         0  unknown  no  \n",
       "1  unknown    5   may       151         1     -1         0  unknown  no  \n",
       "2  unknown    5   may        76         1     -1         0  unknown  no  \n",
       "3  unknown    5   may        92         1     -1         0  unknown  no  \n",
       "4  unknown    5   may       198         1     -1         0  unknown  no  "
      ]
     },
     "execution_count": 2,
     "metadata": {},
     "output_type": "execute_result"
    }
   ],
   "source": [
    "input_file = 'data/bank-full.csv'\n",
    "df = pd.read_csv(input_file,sep=';')\n",
    "df.head()"
   ]
  },
  {
   "cell_type": "markdown",
   "id": "4917b33e",
   "metadata": {},
   "source": [
    "# Preprocessing"
   ]
  },
  {
   "cell_type": "code",
   "execution_count": 3,
   "id": "f3b40a52",
   "metadata": {},
   "outputs": [
    {
     "name": "stdout",
     "output_type": "stream",
     "text": [
      "<class 'pandas.core.frame.DataFrame'>\n",
      "RangeIndex: 45211 entries, 0 to 45210\n",
      "Data columns (total 17 columns):\n",
      " #   Column     Non-Null Count  Dtype \n",
      "---  ------     --------------  ----- \n",
      " 0   age        45211 non-null  int64 \n",
      " 1   job        45211 non-null  object\n",
      " 2   marital    45211 non-null  object\n",
      " 3   education  45211 non-null  object\n",
      " 4   default    45211 non-null  object\n",
      " 5   balance    45211 non-null  int64 \n",
      " 6   housing    45211 non-null  object\n",
      " 7   loan       45211 non-null  object\n",
      " 8   contact    45211 non-null  object\n",
      " 9   day        45211 non-null  int64 \n",
      " 10  month      45211 non-null  object\n",
      " 11  duration   45211 non-null  int64 \n",
      " 12  campaign   45211 non-null  int64 \n",
      " 13  pdays      45211 non-null  int64 \n",
      " 14  previous   45211 non-null  int64 \n",
      " 15  poutcome   45211 non-null  object\n",
      " 16  y          45211 non-null  object\n",
      "dtypes: int64(7), object(10)\n",
      "memory usage: 5.9+ MB\n",
      "None\n"
     ]
    }
   ],
   "source": [
    "print(df.info())"
   ]
  },
  {
   "cell_type": "markdown",
   "id": "54ed2514",
   "metadata": {},
   "source": [
    "### Data Dictionary:\n",
    "#### Bank client data:\n",
    "1 - age (numeric)<br>\n",
    "2 - job : type of job (categorical: \"admin.\",\"unknown\",\"unemployed\",\"management\",\"housemaid\",\"entrepreneur\",\"student\",\n",
    "                                       \"blue-collar\",\"self-employed\",\"retired\",\"technician\",\"services\")<br> \n",
    "   3 - marital : marital status (categorical: \"married\",\"divorced\",\"single\"; note: \"divorced\" means divorced or widowed)<br>\n",
    "   4 - education (categorical: \"unknown\",\"secondary\",\"primary\",\"tertiary\")<br>\n",
    "   5 - default: has credit in default? (binary: \"yes\",\"no\")<br>\n",
    "   6 - balance: average yearly balance, in euros (numeric) <br>\n",
    "   7 - housing: has housing loan? (binary: \"yes\",\"no\")<br>\n",
    "   8 - loan: has personal loan? (binary: \"yes\",\"no\")<br>\n",
    "   #### related with the last contact of the current campaign:\n",
    "   9 - contact: contact communication type (categorical: \"unknown\",\"telephone\",\"cellular\") <br>\n",
    "  10 - day: last contact day of the month (numeric)<br>\n",
    "  11 - month: last contact month of year (categorical: \"jan\", \"feb\", \"mar\", ..., \"nov\", \"dec\")<br>\n",
    "  12 - duration: last contact duration, in seconds (numeric)<br>\n",
    "   #### other attributes:\n",
    "  13 - campaign: number of contacts performed during this campaign and for this client (numeric, includes last contact)<br>\n",
    "  14 - pdays: number of days that passed by after the client was last contacted from a previous campaign (numeric, -1 means client was not previously contacted)<br>\n",
    "  15 - previous: number of contacts performed before this campaign and for this client (numeric)<br>\n",
    "  16 - poutcome: outcome of the previous marketing campaign (categorical: \"unknown\",\"other\",\"failure\",\"success\")<br>\n",
    "\n",
    "  #### Output variable (desired target):\n",
    "  17 - y - has the client subscribed a term deposit? (binary: \"yes\",\"no\")\n",
    "\n"
   ]
  },
  {
   "cell_type": "code",
   "execution_count": 4,
   "id": "03814fe3",
   "metadata": {},
   "outputs": [
    {
     "name": "stdout",
     "output_type": "stream",
     "text": [
      "Number of duplicated rows in the DataFrame: 0\n"
     ]
    }
   ],
   "source": [
    "#Checking for Duplicated Rows\n",
    "print(f'Number of duplicated rows in the DataFrame: {df.duplicated().sum()}')"
   ]
  },
  {
   "cell_type": "code",
   "execution_count": 5,
   "id": "13a227de",
   "metadata": {},
   "outputs": [
    {
     "name": "stdout",
     "output_type": "stream",
     "text": [
      "age          0\n",
      "job          0\n",
      "marital      0\n",
      "education    0\n",
      "default      0\n",
      "balance      0\n",
      "housing      0\n",
      "loan         0\n",
      "contact      0\n",
      "day          0\n",
      "month        0\n",
      "duration     0\n",
      "campaign     0\n",
      "pdays        0\n",
      "previous     0\n",
      "poutcome     0\n",
      "y            0\n",
      "dtype: int64\n"
     ]
    }
   ],
   "source": [
    "#Checking for Missing Values\n",
    "print(df.isnull().sum())"
   ]
  },
  {
   "cell_type": "code",
   "execution_count": 6,
   "id": "e22a9f97",
   "metadata": {},
   "outputs": [
    {
     "name": "stdout",
     "output_type": "stream",
     "text": [
      "no     39922\n",
      "yes     5289\n",
      "Name: y, dtype: int64\n"
     ]
    }
   ],
   "source": [
    "print(df['y'].value_counts())"
   ]
  },
  {
   "cell_type": "code",
   "execution_count": 7,
   "id": "951ec735",
   "metadata": {},
   "outputs": [
    {
     "name": "stdout",
     "output_type": "stream",
     "text": [
      "Percentage of Yes - 11.70 %\n",
      "Percentage of No  - 88.30 %\n"
     ]
    }
   ],
   "source": [
    "temp = df['y'].value_counts()\n",
    "print(f\"Percentage of Yes - {temp[1]/len(df) * 100:.2f} %\\nPercentage of No  - {temp[0]/len(df) * 100:.2f} %\")"
   ]
  },
  {
   "cell_type": "markdown",
   "id": "aeac70c3",
   "metadata": {},
   "source": [
    "- Approximately 11.70% of the instances in the dataset belong to the <b>\"Yes\"</b> class, indicating that a relatively small proportion of individuals subscribed to a term deposit.\n",
    "- The majority, around 88.30% of instances, belong to the <b>\"No\"</b> class, implying that most individuals did not subscribe to a term deposit."
   ]
  },
  {
   "cell_type": "code",
   "execution_count": 8,
   "id": "4d954cb1",
   "metadata": {},
   "outputs": [],
   "source": [
    "numeric_features = df.select_dtypes(include=['int64']).columns.values\n",
    "categorical_features = df.select_dtypes(include=['object']).columns.values"
   ]
  },
  {
   "cell_type": "markdown",
   "id": "89084ef4",
   "metadata": {},
   "source": [
    "### Feature Engineering"
   ]
  },
  {
   "cell_type": "code",
   "execution_count": 10,
   "id": "67cc7918",
   "metadata": {},
   "outputs": [],
   "source": [
    "#Label Encoding\n",
    "label_encoder = LabelEncoder()"
   ]
  },
  {
   "cell_type": "code",
   "execution_count": 11,
   "id": "485a52a0",
   "metadata": {},
   "outputs": [],
   "source": [
    "df['default'] = label_encoder.fit_transform(df['default'])\n",
    "df['housing'] = label_encoder.fit_transform(df['housing'])\n",
    "df['loan'] = label_encoder.fit_transform(df['loan'])\n",
    "df['y'] = label_encoder.fit_transform(df['y'])"
   ]
  },
  {
   "cell_type": "code",
   "execution_count": 12,
   "id": "cf7a8035",
   "metadata": {},
   "outputs": [],
   "source": [
    "#One hot Encoding\n",
    "df = pd.get_dummies(df, columns = [\n",
    "'job'\n",
    ",'marital'\n",
    ",'education'\n",
    ",'contact'\n",
    ",'poutcome'])"
   ]
  },
  {
   "cell_type": "code",
   "execution_count": 13,
   "id": "4d1adbb1",
   "metadata": {},
   "outputs": [],
   "source": [
    "df = df.drop('month',axis=1)"
   ]
  },
  {
   "cell_type": "code",
   "execution_count": 14,
   "id": "94b7c7e5",
   "metadata": {},
   "outputs": [
    {
     "name": "stdout",
     "output_type": "stream",
     "text": [
      "<class 'pandas.core.frame.DataFrame'>\n",
      "RangeIndex: 45211 entries, 0 to 45210\n",
      "Data columns (total 37 columns):\n",
      " #   Column               Non-Null Count  Dtype\n",
      "---  ------               --------------  -----\n",
      " 0   age                  45211 non-null  int64\n",
      " 1   default              45211 non-null  int32\n",
      " 2   balance              45211 non-null  int64\n",
      " 3   housing              45211 non-null  int32\n",
      " 4   loan                 45211 non-null  int32\n",
      " 5   day                  45211 non-null  int64\n",
      " 6   duration             45211 non-null  int64\n",
      " 7   campaign             45211 non-null  int64\n",
      " 8   pdays                45211 non-null  int64\n",
      " 9   previous             45211 non-null  int64\n",
      " 10  y                    45211 non-null  int32\n",
      " 11  job_admin.           45211 non-null  uint8\n",
      " 12  job_blue-collar      45211 non-null  uint8\n",
      " 13  job_entrepreneur     45211 non-null  uint8\n",
      " 14  job_housemaid        45211 non-null  uint8\n",
      " 15  job_management       45211 non-null  uint8\n",
      " 16  job_retired          45211 non-null  uint8\n",
      " 17  job_self-employed    45211 non-null  uint8\n",
      " 18  job_services         45211 non-null  uint8\n",
      " 19  job_student          45211 non-null  uint8\n",
      " 20  job_technician       45211 non-null  uint8\n",
      " 21  job_unemployed       45211 non-null  uint8\n",
      " 22  job_unknown          45211 non-null  uint8\n",
      " 23  marital_divorced     45211 non-null  uint8\n",
      " 24  marital_married      45211 non-null  uint8\n",
      " 25  marital_single       45211 non-null  uint8\n",
      " 26  education_primary    45211 non-null  uint8\n",
      " 27  education_secondary  45211 non-null  uint8\n",
      " 28  education_tertiary   45211 non-null  uint8\n",
      " 29  education_unknown    45211 non-null  uint8\n",
      " 30  contact_cellular     45211 non-null  uint8\n",
      " 31  contact_telephone    45211 non-null  uint8\n",
      " 32  contact_unknown      45211 non-null  uint8\n",
      " 33  poutcome_failure     45211 non-null  uint8\n",
      " 34  poutcome_other       45211 non-null  uint8\n",
      " 35  poutcome_success     45211 non-null  uint8\n",
      " 36  poutcome_unknown     45211 non-null  uint8\n",
      "dtypes: int32(4), int64(7), uint8(26)\n",
      "memory usage: 4.2 MB\n"
     ]
    }
   ],
   "source": [
    "df.info()"
   ]
  },
  {
   "cell_type": "code",
   "execution_count": 15,
   "id": "d48dc0d3",
   "metadata": {},
   "outputs": [
    {
     "name": "stdout",
     "output_type": "stream",
     "text": [
      "Dimension of our features: (45211, 36)\n",
      "Dimension of our label: (45211,)\n"
     ]
    }
   ],
   "source": [
    "#Separating the features and target label\n",
    "X = df.drop(columns=['y'])\n",
    "y = df['y']\n",
    "print(f'Dimension of our features: {X.shape}')\n",
    "print(f'Dimension of our label: {y.shape}')"
   ]
  },
  {
   "cell_type": "code",
   "execution_count": 16,
   "id": "605d481f",
   "metadata": {},
   "outputs": [
    {
     "name": "stdout",
     "output_type": "stream",
     "text": [
      "No.of. Negative Samples before undersampling: 39922\n",
      "No.of. Positive Samples before undersampling: 5289\n"
     ]
    }
   ],
   "source": [
    "print(f\"No.of. Negative Samples before undersampling: {len(y[y == 0])}\")\n",
    "print(f\"No.of. Positive Samples before undersampling: {len(y[y == 1])}\")"
   ]
  },
  {
   "cell_type": "code",
   "execution_count": 17,
   "id": "3e00d003",
   "metadata": {},
   "outputs": [],
   "source": [
    "#Splitting and scaling Baseline without any sample\n",
    "baseline_X_train, baseline_X_test, baseline_y_train, baseline_y_test = train_test_split(X, y, test_size=0.2, random_state=1011)\n",
    "scaler = StandardScaler()\n",
    "baseline_scaled_X_train = scaler.fit_transform(baseline_X_train)\n",
    "baseline_scaled_X_test = scaler.transform(baseline_X_test)"
   ]
  },
  {
   "cell_type": "code",
   "execution_count": 18,
   "id": "6e119dc4",
   "metadata": {},
   "outputs": [
    {
     "name": "stdout",
     "output_type": "stream",
     "text": [
      "[LibSVM]"
     ]
    }
   ],
   "source": [
    "baseline_model = SVC(C=1.0,kernel='rbf',verbose=True)\n",
    "baseline_model.fit(baseline_scaled_X_train,baseline_y_train)\n",
    "baseline_y_pred = baseline_model.predict(baseline_scaled_X_test)"
   ]
  },
  {
   "cell_type": "code",
   "execution_count": 19,
   "id": "5d07b621",
   "metadata": {},
   "outputs": [
    {
     "name": "stdout",
     "output_type": "stream",
     "text": [
      "\n",
      "Accuracy for Testing Set: 0.899922592060157\n",
      "Confusion matrix for Testing Set:\n",
      "\n",
      "[[7844  133]\n",
      " [ 772  294]]\n",
      "              precision    recall  f1-score   support\n",
      "\n",
      "           0       0.91      0.98      0.95      7977\n",
      "           1       0.69      0.28      0.39      1066\n",
      "\n",
      "    accuracy                           0.90      9043\n",
      "   macro avg       0.80      0.63      0.67      9043\n",
      "weighted avg       0.88      0.90      0.88      9043\n",
      "\n",
      "Precision for Testing Set: 0.6885245901639344\n",
      "Recall for Testing Set: 0.275797373358349\n",
      "F1 for Testing Set: 0.39383791024782316\n"
     ]
    }
   ],
   "source": [
    "baseline_svm_accuracy = accuracy_score(baseline_y_test, baseline_y_pred)\n",
    "print(\"\\nAccuracy for Testing Set:\", baseline_svm_accuracy)\n",
    "\n",
    "#Confusion matrix\n",
    "baseline_svm_confusion_matrix_test = confusion_matrix(baseline_y_test, baseline_y_pred)\n",
    "\n",
    "print(\"Confusion matrix for Testing Set:\\n\")\n",
    "print(baseline_svm_confusion_matrix_test)\n",
    "\n",
    "#Classfication Report\n",
    "print(classification_report(baseline_y_test,baseline_y_pred))\n",
    "\n",
    "#Precision and Recall Score\n",
    "baseline_svm_precision = precision_score(baseline_y_test, baseline_y_pred)\n",
    "baseline_svm_recall = recall_score(baseline_y_test, baseline_y_pred)\n",
    "baseline_svm_f1 = f1_score(baseline_y_test,baseline_y_pred)\n",
    "print(\"Precision for Testing Set:\", baseline_svm_precision)\n",
    "print(\"Recall for Testing Set:\", baseline_svm_recall)\n",
    "print(\"F1 for Testing Set:\", baseline_svm_f1)"
   ]
  },
  {
   "cell_type": "markdown",
   "id": "eb9c0007",
   "metadata": {},
   "source": [
    "## Handling Class Imbalance for Baseline Model"
   ]
  },
  {
   "cell_type": "markdown",
   "id": "3174920c",
   "metadata": {},
   "source": [
    "### Undersampling"
   ]
  },
  {
   "cell_type": "code",
   "execution_count": 20,
   "id": "cd79e8ab",
   "metadata": {},
   "outputs": [],
   "source": [
    "#NearMiss under-sampling\n",
    "nm = NearMiss(version=3)\n",
    "nm_X_resampled, nm_y_resampled = nm.fit_resample(X, y)"
   ]
  },
  {
   "cell_type": "code",
   "execution_count": 21,
   "id": "4f802840",
   "metadata": {},
   "outputs": [
    {
     "name": "stdout",
     "output_type": "stream",
     "text": [
      "Shape of X after NearMiss undersampling: (10578, 36)\n",
      "Shape of y after NearMiss undersampling: (10578,)\n",
      "No.of. Negative Samples after NearMiss undersampling: 5289\n",
      "No.of. Positive Samples after NearMiss undersampling: 5289\n"
     ]
    }
   ],
   "source": [
    "print(f\"Shape of X after NearMiss undersampling: {nm_X_resampled.shape}\")\n",
    "print(f\"Shape of y after NearMiss undersampling: {nm_y_resampled.shape}\")\n",
    "print(f\"No.of. Negative Samples after NearMiss undersampling: {len(nm_y_resampled[nm_y_resampled == 0])}\")\n",
    "print(f\"No.of. Positive Samples after NearMiss undersampling: {len(nm_y_resampled[nm_y_resampled == 1])}\")"
   ]
  },
  {
   "cell_type": "code",
   "execution_count": 22,
   "id": "b5dc9e87",
   "metadata": {},
   "outputs": [],
   "source": [
    "#Splitting and Reassigning the training and testing sets with Undersampled Data and also performing scaling\n",
    "baseline_u_X_train, baseline_u_X_test, baseline_u_y_train, baseline_u_y_test = train_test_split(nm_X_resampled, nm_y_resampled, test_size=0.2, random_state=1011)\n",
    "scaler = StandardScaler()\n",
    "baseline_u_scaled_X_train = scaler.fit_transform(baseline_u_X_train)\n",
    "baseline_u_scaled_X_test = scaler.transform(baseline_u_X_test)"
   ]
  },
  {
   "cell_type": "code",
   "execution_count": 23,
   "id": "14a19e72",
   "metadata": {},
   "outputs": [
    {
     "name": "stdout",
     "output_type": "stream",
     "text": [
      "[LibSVM]\n",
      "Accuracy for Testing Set: 0.7084120982986768\n",
      "Confusion matrix for Testing Set:\n",
      "\n",
      "[[681 337]\n",
      " [280 818]]\n",
      "              precision    recall  f1-score   support\n",
      "\n",
      "           0       0.71      0.67      0.69      1018\n",
      "           1       0.71      0.74      0.73      1098\n",
      "\n",
      "    accuracy                           0.71      2116\n",
      "   macro avg       0.71      0.71      0.71      2116\n",
      "weighted avg       0.71      0.71      0.71      2116\n",
      "\n",
      "Precision for Testing Set: 0.7082251082251082\n",
      "Recall for Testing Set: 0.7449908925318761\n"
     ]
    }
   ],
   "source": [
    "baseline_u_svm_model = SVC(C=1.0,kernel='rbf',verbose=True)\n",
    "baseline_u_svm_model.fit(baseline_u_scaled_X_train,baseline_u_y_train)\n",
    "baseline_u_y_pred = baseline_u_svm_model.predict(baseline_u_scaled_X_test)\n",
    "\n",
    "#Performance on the test set\n",
    "baseline_u_svm_accuracy = accuracy_score(baseline_u_y_test, baseline_u_y_pred)\n",
    "print(\"\\nAccuracy for Testing Set:\", baseline_u_svm_accuracy)\n",
    "\n",
    "#Confusion matrix\n",
    "baseline_u_svm_confusion_matrix_test = confusion_matrix(baseline_u_y_test, baseline_u_y_pred)\n",
    "\n",
    "print(\"Confusion matrix for Testing Set:\\n\")\n",
    "print(baseline_u_svm_confusion_matrix_test)\n",
    "\n",
    "#Classfication Report\n",
    "print(classification_report(baseline_u_y_test,baseline_u_y_pred))\n",
    "\n",
    "#Precision and Recall Score\n",
    "baseline_u_precision = precision_score(baseline_u_y_test, baseline_u_y_pred)\n",
    "baseline_u_recall = recall_score(baseline_u_y_test, baseline_u_y_pred)\n",
    "print(\"Precision for Testing Set:\", baseline_u_precision)\n",
    "print(\"Recall for Testing Set:\", baseline_u_recall)"
   ]
  },
  {
   "cell_type": "markdown",
   "id": "79af935b",
   "metadata": {},
   "source": [
    "### Oversampling"
   ]
  },
  {
   "cell_type": "code",
   "execution_count": 24,
   "id": "6fd74fe7",
   "metadata": {},
   "outputs": [
    {
     "name": "stdout",
     "output_type": "stream",
     "text": [
      "Shape of X before oversampling: (45211, 36)\n",
      "Shape of y before oversampling: (45211,)\n"
     ]
    }
   ],
   "source": [
    "print(f\"Shape of X before oversampling: {X.shape}\")\n",
    "print(f\"Shape of y before oversampling: {y.shape}\")"
   ]
  },
  {
   "cell_type": "code",
   "execution_count": 25,
   "id": "e94a12f6",
   "metadata": {},
   "outputs": [
    {
     "name": "stdout",
     "output_type": "stream",
     "text": [
      "No.of. Negative Samples before oversampling: 39922\n",
      "No.of. Positive Samples before oversampling: 5289\n"
     ]
    }
   ],
   "source": [
    "print(f\"No.of. Negative Samples before oversampling: {len(y[y == 0])}\")\n",
    "print(f\"No.of. Positive Samples before oversampling: {len(y[y == 1])}\")"
   ]
  },
  {
   "cell_type": "code",
   "execution_count": 26,
   "id": "5c909b87",
   "metadata": {},
   "outputs": [],
   "source": [
    "#SMOTE (Synthetic Minority Oversampling Technique)\n",
    "smote = SMOTE(random_state=1011)\n",
    "smote_X_resampled, smote_y_resampled = smote.fit_resample(X, y)"
   ]
  },
  {
   "cell_type": "code",
   "execution_count": 27,
   "id": "6fa4cf98",
   "metadata": {},
   "outputs": [
    {
     "name": "stdout",
     "output_type": "stream",
     "text": [
      "Shape of X after Random oversampling: (79844, 36)\n",
      "Shape of y after Random oversampling: (79844,)\n",
      "No.of. Negative Samples after Random oversampling: 39922\n",
      "No.of. Positive Samples after Random oversampling: 39922\n"
     ]
    }
   ],
   "source": [
    "print(f\"Shape of X after Random oversampling: {smote_X_resampled.shape}\")\n",
    "print(f\"Shape of y after Random oversampling: {smote_y_resampled.shape}\")\n",
    "print(f\"No.of. Negative Samples after Random oversampling: {len(smote_y_resampled[smote_y_resampled == 0])}\")\n",
    "print(f\"No.of. Positive Samples after Random oversampling: {len(smote_y_resampled[smote_y_resampled == 1])}\")"
   ]
  },
  {
   "cell_type": "code",
   "execution_count": 28,
   "id": "4fdb8dde",
   "metadata": {},
   "outputs": [],
   "source": [
    "#Splitting and Reassigning the training and testing sets with Oversampled Data and also performing scaling\n",
    "baseline_o_X_train, baseline_o_X_test, baseline_o_y_train, baseline_o_y_test = train_test_split(smote_X_resampled, smote_y_resampled, test_size=0.2, random_state=2209)\n",
    "scaler = StandardScaler()\n",
    "baseline_o_scaled_X_train = scaler.fit_transform(baseline_o_X_train)\n",
    "baseline_o_scaled_X_test = scaler.transform(baseline_o_X_test)"
   ]
  },
  {
   "cell_type": "markdown",
   "id": "02d357d7",
   "metadata": {},
   "source": [
    "Best model parameters for Support Vector Machine: {'C': 1, 'break_ties': False, 'cache_size': 200, 'class_weight': None, 'coef0': 0.0, 'decision_function_shape': 'ovr', 'degree': 3, 'gamma': 0.1, 'kernel': 'rbf', 'max_iter': -1, 'probability': False, 'random_state': None, 'shrinking': True, 'tol': 0.001, 'verbose': False}"
   ]
  },
  {
   "cell_type": "code",
   "execution_count": 29,
   "id": "99af31dc",
   "metadata": {},
   "outputs": [
    {
     "name": "stdout",
     "output_type": "stream",
     "text": [
      "[LibSVM]\n",
      "Accuracy for Testing Set: 0.9343728473918217\n",
      "Confusion matrix for Testing Set:\n",
      "\n",
      "[[7787  169]\n",
      " [ 879 7134]]\n",
      "              precision    recall  f1-score   support\n",
      "\n",
      "           0       0.90      0.98      0.94      7956\n",
      "           1       0.98      0.89      0.93      8013\n",
      "\n",
      "    accuracy                           0.93     15969\n",
      "   macro avg       0.94      0.93      0.93     15969\n",
      "weighted avg       0.94      0.93      0.93     15969\n",
      "\n",
      "Precision for Testing Set: 0.9768588251403533\n",
      "Recall for Testing Set: 0.8903032572070385\n"
     ]
    }
   ],
   "source": [
    "baseline_o_model = SVC(C=1.0,kernel='rbf',verbose=True)\n",
    "baseline_o_model.fit(baseline_o_scaled_X_train,baseline_o_y_train)\n",
    "baseline_o_y_pred = baseline_o_model.predict(baseline_o_scaled_X_test)\n",
    "\n",
    "#Performance on the test set\n",
    "baseline_o_svm_accuracy = accuracy_score(baseline_o_y_test, baseline_o_y_pred)\n",
    "print(\"\\nAccuracy for Testing Set:\", baseline_o_svm_accuracy)\n",
    "\n",
    "#Confusion matrix\n",
    "baseline_o_svm_confusion_matrix_test = confusion_matrix(baseline_o_y_test, baseline_o_y_pred)\n",
    "\n",
    "print(\"Confusion matrix for Testing Set:\\n\")\n",
    "print(baseline_o_svm_confusion_matrix_test)\n",
    "\n",
    "#Classfication Report\n",
    "print(classification_report(baseline_o_y_test,baseline_o_y_pred))\n",
    "\n",
    "#Precision and Recall Score\n",
    "baseline_o_svm_precision = precision_score(baseline_o_y_test, baseline_o_y_pred)\n",
    "baseline_o_svm_recall = recall_score(baseline_o_y_test, baseline_o_y_pred)\n",
    "print(\"Precision for Testing Set:\", baseline_o_svm_precision)\n",
    "print(\"Recall for Testing Set:\", baseline_o_svm_recall)"
   ]
  },
  {
   "cell_type": "code",
   "execution_count": 30,
   "id": "b00a5de7",
   "metadata": {},
   "outputs": [
    {
     "data": {
      "image/png": "[encoded data removed]",
      "text/plain": [
       "<Figure size 720x576 with 1 Axes>"
      ]
     },
     "metadata": {
      "needs_background": "light"
     },
     "output_type": "display_data"
    }
   ],
   "source": [
    "# ROC curve\n",
    "fpr, tpr, thresholds = roc_curve(baseline_o_y_test, baseline_o_y_pred)\n",
    "roc_auc = auc(fpr, tpr)\n",
    "\n",
    "# Plot ROC curve\n",
    "plt.figure(figsize=(10, 8))\n",
    "plt.plot(fpr, tpr, color='darkorange', label='ROC curve (area = %0.2f)' % roc_auc)\n",
    "plt.plot([0, 1], [0, 1], color='navy', linestyle='--')\n",
    "plt.xlabel('False Positive Rate')\n",
    "plt.ylabel('True Positive Rate')\n",
    "plt.title('ROC Curve for SVM Baseline Classifier with Oversampled Data')\n",
    "plt.legend()\n",
    "plt.savefig('ROC Curve for SVM Baseline Classifier with Oversampled Data.png')\n",
    "plt.show()"
   ]
  },
  {
   "cell_type": "markdown",
   "id": "84f4090a",
   "metadata": {},
   "source": [
    "## Saving the Files"
   ]
  },
  {
   "cell_type": "code",
   "execution_count": 31,
   "id": "dc9a2123",
   "metadata": {},
   "outputs": [
    {
     "name": "stdout",
     "output_type": "stream",
     "text": [
      "Data saved successfully to: training_data.pkl\n"
     ]
    }
   ],
   "source": [
    "import pickle\n",
    "\n",
    "# Define the file path where you want to save the data\n",
    "file_path = \"training_data.pkl\"\n",
    "\n",
    "# Create a dictionary to store your datasets\n",
    "model_data = {\n",
    "    \"X_train\": X,\n",
    "    \"y_train\": y,\n",
    "    \"X_train_smote\": smote_X_resampled, \n",
    "    \"y_train_smote\": smote_y_resampled,\n",
    "    \"X_train_nearmiss\": nm_X_resampled,\n",
    "    \"y_train_nearmiss\": nm_y_resampled    \n",
    "}\n",
    "\n",
    "# Open the file in binary write mode and save the data using pickle.dump()\n",
    "with open(file_path, 'wb') as file:\n",
    "    pickle.dump(model_data, file)\n",
    "\n",
    "print(\"Data saved successfully to:\", file_path)"
   ]
  }
 ],
 "metadata": {
  "kernelspec": {
   "display_name": "Python 3 (ipykernel)",
   "language": "python",
   "name": "python3"
  },
  "language_info": {
   "codemirror_mode": {
    "name": "ipython",
    "version": 3
   },
   "file_extension": ".py",
   "mimetype": "text/x-python",
   "name": "python",
   "nbconvert_exporter": "python",
   "pygments_lexer": "ipython3",
   "version": "3.9.12"
  }
 },
 "nbformat": 4,
 "nbformat_minor": 5
}
